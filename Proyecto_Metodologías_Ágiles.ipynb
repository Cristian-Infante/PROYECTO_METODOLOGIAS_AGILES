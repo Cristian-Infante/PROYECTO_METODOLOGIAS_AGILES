{
  "cells": [
    {
      "cell_type": "code",
      "execution_count": 1,
      "metadata": {
        "colab": {
          "base_uri": "https://localhost:8080/"
        },
        "id": "bOpS99XjIRZl",
        "outputId": "14203844-00ec-41d0-f249-8656e9691bde"
      },
      "outputs": [
        {
          "name": "stdout",
          "output_type": "stream",
          "text": [
            "Requirement already satisfied: pandas in c:\\users\\usuario\\appdata\\local\\programs\\python\\python313\\lib\\site-packages (2.2.3)\n",
            "Requirement already satisfied: numpy>=1.26.0 in c:\\users\\usuario\\appdata\\local\\programs\\python\\python313\\lib\\site-packages (from pandas) (2.2.3)\n",
            "Requirement already satisfied: python-dateutil>=2.8.2 in c:\\users\\usuario\\appdata\\roaming\\python\\python313\\site-packages (from pandas) (2.9.0.post0)\n",
            "Requirement already satisfied: pytz>=2020.1 in c:\\users\\usuario\\appdata\\local\\programs\\python\\python313\\lib\\site-packages (from pandas) (2025.1)\n",
            "Requirement already satisfied: tzdata>=2022.7 in c:\\users\\usuario\\appdata\\local\\programs\\python\\python313\\lib\\site-packages (from pandas) (2025.1)\n",
            "Requirement already satisfied: six>=1.5 in c:\\users\\usuario\\appdata\\roaming\\python\\python313\\site-packages (from python-dateutil>=2.8.2->pandas) (1.17.0)\n"
          ]
        },
        {
          "name": "stderr",
          "output_type": "stream",
          "text": [
            "\n",
            "[notice] A new release of pip is available: 24.3.1 -> 25.2\n",
            "[notice] To update, run: python.exe -m pip install --upgrade pip\n"
          ]
        },
        {
          "name": "stdout",
          "output_type": "stream",
          "text": [
            "Collecting sodapy\n",
            "  Downloading sodapy-2.2.0-py2.py3-none-any.whl.metadata (15 kB)\n",
            "Requirement already satisfied: requests>=2.28.1 in c:\\users\\usuario\\appdata\\local\\programs\\python\\python313\\lib\\site-packages (from sodapy) (2.32.3)\n",
            "Requirement already satisfied: charset-normalizer<4,>=2 in c:\\users\\usuario\\appdata\\local\\programs\\python\\python313\\lib\\site-packages (from requests>=2.28.1->sodapy) (3.4.1)\n",
            "Requirement already satisfied: idna<4,>=2.5 in c:\\users\\usuario\\appdata\\local\\programs\\python\\python313\\lib\\site-packages (from requests>=2.28.1->sodapy) (3.10)\n",
            "Requirement already satisfied: urllib3<3,>=1.21.1 in c:\\users\\usuario\\appdata\\local\\programs\\python\\python313\\lib\\site-packages (from requests>=2.28.1->sodapy) (2.3.0)\n",
            "Requirement already satisfied: certifi>=2017.4.17 in c:\\users\\usuario\\appdata\\local\\programs\\python\\python313\\lib\\site-packages (from requests>=2.28.1->sodapy) (2025.1.31)\n",
            "Downloading sodapy-2.2.0-py2.py3-none-any.whl (15 kB)\n",
            "Installing collected packages: sodapy\n",
            "Successfully installed sodapy-2.2.0\n"
          ]
        },
        {
          "name": "stderr",
          "output_type": "stream",
          "text": [
            "\n",
            "[notice] A new release of pip is available: 24.3.1 -> 25.2\n",
            "[notice] To update, run: python.exe -m pip install --upgrade pip\n"
          ]
        },
        {
          "name": "stdout",
          "output_type": "stream",
          "text": [
            "Requirement already satisfied: altair in c:\\users\\usuario\\appdata\\local\\programs\\python\\python313\\lib\\site-packages (5.5.0)\n",
            "Requirement already satisfied: jinja2 in c:\\users\\usuario\\appdata\\local\\programs\\python\\python313\\lib\\site-packages (from altair) (3.1.6)\n",
            "Requirement already satisfied: jsonschema>=3.0 in c:\\users\\usuario\\appdata\\local\\programs\\python\\python313\\lib\\site-packages (from altair) (4.24.0)\n",
            "Requirement already satisfied: narwhals>=1.14.2 in c:\\users\\usuario\\appdata\\local\\programs\\python\\python313\\lib\\site-packages (from altair) (1.41.0)\n",
            "Requirement already satisfied: packaging in c:\\users\\usuario\\appdata\\roaming\\python\\python313\\site-packages (from altair) (24.2)\n",
            "Requirement already satisfied: typing-extensions>=4.10.0 in c:\\users\\usuario\\appdata\\local\\programs\\python\\python313\\lib\\site-packages (from altair) (4.13.0)\n",
            "Requirement already satisfied: attrs>=22.2.0 in c:\\users\\usuario\\appdata\\local\\programs\\python\\python313\\lib\\site-packages (from jsonschema>=3.0->altair) (25.3.0)\n",
            "Requirement already satisfied: jsonschema-specifications>=2023.03.6 in c:\\users\\usuario\\appdata\\local\\programs\\python\\python313\\lib\\site-packages (from jsonschema>=3.0->altair) (2025.4.1)\n",
            "Requirement already satisfied: referencing>=0.28.4 in c:\\users\\usuario\\appdata\\local\\programs\\python\\python313\\lib\\site-packages (from jsonschema>=3.0->altair) (0.36.2)\n",
            "Requirement already satisfied: rpds-py>=0.7.1 in c:\\users\\usuario\\appdata\\local\\programs\\python\\python313\\lib\\site-packages (from jsonschema>=3.0->altair) (0.25.1)\n",
            "Requirement already satisfied: MarkupSafe>=2.0 in c:\\users\\usuario\\appdata\\local\\programs\\python\\python313\\lib\\site-packages (from jinja2->altair) (3.0.2)\n"
          ]
        },
        {
          "name": "stderr",
          "output_type": "stream",
          "text": [
            "\n",
            "[notice] A new release of pip is available: 24.3.1 -> 25.2\n",
            "[notice] To update, run: python.exe -m pip install --upgrade pip\n"
          ]
        },
        {
          "name": "stdout",
          "output_type": "stream",
          "text": [
            "Requirement already satisfied: pydeck in c:\\users\\usuario\\appdata\\local\\programs\\python\\python313\\lib\\site-packages (0.9.1)\n",
            "Requirement already satisfied: jinja2>=2.10.1 in c:\\users\\usuario\\appdata\\local\\programs\\python\\python313\\lib\\site-packages (from pydeck) (3.1.6)\n",
            "Requirement already satisfied: numpy>=1.16.4 in c:\\users\\usuario\\appdata\\local\\programs\\python\\python313\\lib\\site-packages (from pydeck) (2.2.3)\n",
            "Requirement already satisfied: MarkupSafe>=2.0 in c:\\users\\usuario\\appdata\\local\\programs\\python\\python313\\lib\\site-packages (from jinja2>=2.10.1->pydeck) (3.0.2)\n"
          ]
        },
        {
          "name": "stderr",
          "output_type": "stream",
          "text": [
            "\n",
            "[notice] A new release of pip is available: 24.3.1 -> 25.2\n",
            "[notice] To update, run: python.exe -m pip install --upgrade pip\n"
          ]
        },
        {
          "name": "stdout",
          "output_type": "stream",
          "text": [
            "Requirement already satisfied: streamlit in c:\\users\\usuario\\appdata\\local\\programs\\python\\python313\\lib\\site-packages (1.45.1)\n",
            "Requirement already satisfied: altair<6,>=4.0 in c:\\users\\usuario\\appdata\\local\\programs\\python\\python313\\lib\\site-packages (from streamlit) (5.5.0)\n",
            "Requirement already satisfied: blinker<2,>=1.5.0 in c:\\users\\usuario\\appdata\\local\\programs\\python\\python313\\lib\\site-packages (from streamlit) (1.9.0)\n",
            "Requirement already satisfied: cachetools<6,>=4.0 in c:\\users\\usuario\\appdata\\local\\programs\\python\\python313\\lib\\site-packages (from streamlit) (5.5.2)\n",
            "Requirement already satisfied: click<9,>=7.0 in c:\\users\\usuario\\appdata\\local\\programs\\python\\python313\\lib\\site-packages (from streamlit) (8.2.1)\n",
            "Requirement already satisfied: numpy<3,>=1.23 in c:\\users\\usuario\\appdata\\local\\programs\\python\\python313\\lib\\site-packages (from streamlit) (2.2.3)\n",
            "Requirement already satisfied: packaging<25,>=20 in c:\\users\\usuario\\appdata\\roaming\\python\\python313\\site-packages (from streamlit) (24.2)\n",
            "Requirement already satisfied: pandas<3,>=1.4.0 in c:\\users\\usuario\\appdata\\local\\programs\\python\\python313\\lib\\site-packages (from streamlit) (2.2.3)\n",
            "Requirement already satisfied: pillow<12,>=7.1.0 in c:\\users\\usuario\\appdata\\local\\programs\\python\\python313\\lib\\site-packages (from streamlit) (10.4.0)\n",
            "Requirement already satisfied: protobuf<7,>=3.20 in c:\\users\\usuario\\appdata\\local\\programs\\python\\python313\\lib\\site-packages (from streamlit) (6.30.2)\n",
            "Requirement already satisfied: pyarrow>=7.0 in c:\\users\\usuario\\appdata\\local\\programs\\python\\python313\\lib\\site-packages (from streamlit) (20.0.0)\n",
            "Requirement already satisfied: requests<3,>=2.27 in c:\\users\\usuario\\appdata\\local\\programs\\python\\python313\\lib\\site-packages (from streamlit) (2.32.3)\n",
            "Requirement already satisfied: tenacity<10,>=8.1.0 in c:\\users\\usuario\\appdata\\local\\programs\\python\\python313\\lib\\site-packages (from streamlit) (9.1.2)\n",
            "Requirement already satisfied: toml<2,>=0.10.1 in c:\\users\\usuario\\appdata\\local\\programs\\python\\python313\\lib\\site-packages (from streamlit) (0.10.2)\n",
            "Requirement already satisfied: typing-extensions<5,>=4.4.0 in c:\\users\\usuario\\appdata\\local\\programs\\python\\python313\\lib\\site-packages (from streamlit) (4.13.0)\n",
            "Requirement already satisfied: watchdog<7,>=2.1.5 in c:\\users\\usuario\\appdata\\local\\programs\\python\\python313\\lib\\site-packages (from streamlit) (6.0.0)\n",
            "Requirement already satisfied: gitpython!=3.1.19,<4,>=3.0.7 in c:\\users\\usuario\\appdata\\local\\programs\\python\\python313\\lib\\site-packages (from streamlit) (3.1.44)\n",
            "Requirement already satisfied: pydeck<1,>=0.8.0b4 in c:\\users\\usuario\\appdata\\local\\programs\\python\\python313\\lib\\site-packages (from streamlit) (0.9.1)\n",
            "Requirement already satisfied: tornado<7,>=6.0.3 in c:\\users\\usuario\\appdata\\roaming\\python\\python313\\site-packages (from streamlit) (6.4.2)\n",
            "Requirement already satisfied: jinja2 in c:\\users\\usuario\\appdata\\local\\programs\\python\\python313\\lib\\site-packages (from altair<6,>=4.0->streamlit) (3.1.6)\n",
            "Requirement already satisfied: jsonschema>=3.0 in c:\\users\\usuario\\appdata\\local\\programs\\python\\python313\\lib\\site-packages (from altair<6,>=4.0->streamlit) (4.24.0)\n",
            "Requirement already satisfied: narwhals>=1.14.2 in c:\\users\\usuario\\appdata\\local\\programs\\python\\python313\\lib\\site-packages (from altair<6,>=4.0->streamlit) (1.41.0)\n",
            "Requirement already satisfied: colorama in c:\\users\\usuario\\appdata\\roaming\\python\\python313\\site-packages (from click<9,>=7.0->streamlit) (0.4.6)\n",
            "Requirement already satisfied: gitdb<5,>=4.0.1 in c:\\users\\usuario\\appdata\\local\\programs\\python\\python313\\lib\\site-packages (from gitpython!=3.1.19,<4,>=3.0.7->streamlit) (4.0.12)\n",
            "Requirement already satisfied: python-dateutil>=2.8.2 in c:\\users\\usuario\\appdata\\roaming\\python\\python313\\site-packages (from pandas<3,>=1.4.0->streamlit) (2.9.0.post0)\n",
            "Requirement already satisfied: pytz>=2020.1 in c:\\users\\usuario\\appdata\\local\\programs\\python\\python313\\lib\\site-packages (from pandas<3,>=1.4.0->streamlit) (2025.1)\n",
            "Requirement already satisfied: tzdata>=2022.7 in c:\\users\\usuario\\appdata\\local\\programs\\python\\python313\\lib\\site-packages (from pandas<3,>=1.4.0->streamlit) (2025.1)\n",
            "Requirement already satisfied: charset-normalizer<4,>=2 in c:\\users\\usuario\\appdata\\local\\programs\\python\\python313\\lib\\site-packages (from requests<3,>=2.27->streamlit) (3.4.1)\n",
            "Requirement already satisfied: idna<4,>=2.5 in c:\\users\\usuario\\appdata\\local\\programs\\python\\python313\\lib\\site-packages (from requests<3,>=2.27->streamlit) (3.10)\n",
            "Requirement already satisfied: urllib3<3,>=1.21.1 in c:\\users\\usuario\\appdata\\local\\programs\\python\\python313\\lib\\site-packages (from requests<3,>=2.27->streamlit) (2.3.0)\n",
            "Requirement already satisfied: certifi>=2017.4.17 in c:\\users\\usuario\\appdata\\local\\programs\\python\\python313\\lib\\site-packages (from requests<3,>=2.27->streamlit) (2025.1.31)\n",
            "Requirement already satisfied: smmap<6,>=3.0.1 in c:\\users\\usuario\\appdata\\local\\programs\\python\\python313\\lib\\site-packages (from gitdb<5,>=4.0.1->gitpython!=3.1.19,<4,>=3.0.7->streamlit) (5.0.2)\n",
            "Requirement already satisfied: MarkupSafe>=2.0 in c:\\users\\usuario\\appdata\\local\\programs\\python\\python313\\lib\\site-packages (from jinja2->altair<6,>=4.0->streamlit) (3.0.2)\n",
            "Requirement already satisfied: attrs>=22.2.0 in c:\\users\\usuario\\appdata\\local\\programs\\python\\python313\\lib\\site-packages (from jsonschema>=3.0->altair<6,>=4.0->streamlit) (25.3.0)\n",
            "Requirement already satisfied: jsonschema-specifications>=2023.03.6 in c:\\users\\usuario\\appdata\\local\\programs\\python\\python313\\lib\\site-packages (from jsonschema>=3.0->altair<6,>=4.0->streamlit) (2025.4.1)\n",
            "Requirement already satisfied: referencing>=0.28.4 in c:\\users\\usuario\\appdata\\local\\programs\\python\\python313\\lib\\site-packages (from jsonschema>=3.0->altair<6,>=4.0->streamlit) (0.36.2)\n",
            "Requirement already satisfied: rpds-py>=0.7.1 in c:\\users\\usuario\\appdata\\local\\programs\\python\\python313\\lib\\site-packages (from jsonschema>=3.0->altair<6,>=4.0->streamlit) (0.25.1)\n",
            "Requirement already satisfied: six>=1.5 in c:\\users\\usuario\\appdata\\roaming\\python\\python313\\site-packages (from python-dateutil>=2.8.2->pandas<3,>=1.4.0->streamlit) (1.17.0)\n"
          ]
        },
        {
          "name": "stderr",
          "output_type": "stream",
          "text": [
            "\n",
            "[notice] A new release of pip is available: 24.3.1 -> 25.2\n",
            "[notice] To update, run: python.exe -m pip install --upgrade pip\n"
          ]
        },
        {
          "name": "stdout",
          "output_type": "stream",
          "text": [
            "\n",
            "up to date, audited 634 packages in 28s\n",
            "\n",
            "99 packages are looking for funding\n",
            "  run `npm fund` for details\n",
            "\n",
            "17 vulnerabilities (5 low, 6 moderate, 4 high, 2 critical)\n",
            "\n",
            "To address issues that do not require attention, run:\n",
            "  npm audit fix\n",
            "\n",
            "To address all issues (including breaking changes), run:\n",
            "  npm audit fix --force\n",
            "\n",
            "Run `npm audit` for details.\n"
          ]
        },
        {
          "name": "stderr",
          "output_type": "stream",
          "text": [
            "npm error config prefix cannot be changed from project config: c:\\Users\\USUARIO\\.npmrc.\n"
          ]
        }
      ],
      "source": [
        "# make sure to install these packages before running:\n",
        "!pip install pandas\n",
        "!pip install sodapy\n",
        "!pip install altair\n",
        "!pip install pydeck\n",
        "!pip install streamlit\n",
        "!npm i localtunnel"
      ]
    },
    {
      "cell_type": "code",
      "execution_count": 18,
      "metadata": {
        "colab": {
          "base_uri": "https://localhost:8080/"
        },
        "id": "HsCVzdOFW1tE",
        "outputId": "6095bdab-5ef1-439b-d4d5-8a22717b21fc"
      },
      "outputs": [
        {
          "name": "stderr",
          "output_type": "stream",
          "text": [
            "WARNING:root:Requests made without an app_token will be subject to strict throttling limits.\n",
            "C:\\Users\\USUARIO\\AppData\\Local\\Temp\\ipykernel_32932\\2787591777.py:41: UserWarning: Parsing dates in %d/%m/%Y format when dayfirst=False (the default) was specified. Pass `dayfirst=True` or specify a format to silence this warning.\n",
            "  df[\"fecha_actualizacion\"] = pd.to_datetime(df[\"fecha_de_actualizaci_n\"], errors=\"coerce\")\n"
          ]
        },
        {
          "name": "stdout",
          "output_type": "stream",
          "text": [
            "Parquet generado: data/suit_tramites.parquet  (535,926 filas)\n"
          ]
        }
      ],
      "source": [
        "# preprocess_suit.py\n",
        "# Descarga un subconjunto de SUIT y lo guarda en Parquet.\n",
        "\n",
        "import os\n",
        "import pandas as pd\n",
        "from sodapy import Socrata\n",
        "\n",
        "# ---------- Configuración ----------\n",
        "DOMAIN     = \"www.datos.gov.co\"\n",
        "DATASET_ID = \"48fq-mxnm\"\n",
        "LIMIT      = 536_000                          # filas a descargar\n",
        "OUT_PATH   = \"data/suit_tramites.parquet\"\n",
        "\n",
        "SELECT_COLUMNS = [\n",
        "    \"fecha_de_actualizaci_n\",\n",
        "    \"departamento\",\n",
        "    \"municipio\",\n",
        "    \"nombre_de_la_entidad\",\n",
        "    \"latitud_municipio\",\n",
        "    \"longitud_municipio\",\n",
        "]\n",
        "\n",
        "def _to_num(s: pd.Series) -> pd.Series:\n",
        "    return pd.to_numeric(s.str.replace(\",\", \".\", regex=False), errors=\"coerce\")\n",
        "\n",
        "def main() -> None:\n",
        "    os.makedirs(os.path.dirname(OUT_PATH), exist_ok=True)\n",
        "\n",
        "    client = Socrata(DOMAIN, None)          # público, sin token\n",
        "    raw = client.get(DATASET_ID,\n",
        "                     select=\", \".join(SELECT_COLUMNS),\n",
        "                     limit=LIMIT)\n",
        "    client.close()\n",
        "\n",
        "    df = pd.DataFrame.from_records(raw)\n",
        "    if df.empty:\n",
        "        raise SystemExit(\"No se obtuvieron registros.\")\n",
        "\n",
        "    # --- Limpieza mínima ---\n",
        "    df = df.rename(columns={\"nombre_de_la_entidad\": \"entidad\"})\n",
        "    df[\"fecha_actualizacion\"] = pd.to_datetime(df[\"fecha_de_actualizaci_n\"], errors=\"coerce\")\n",
        "\n",
        "    fa = df[\"fecha_actualizacion\"]\n",
        "    df[\"anio\"]      = fa.dt.year.astype(\"Int64\")\n",
        "    df[\"mes_num\"]   = fa.dt.month.astype(\"Int64\")\n",
        "    df[\"fecha_mes\"] = fa.dt.to_period(\"M\").dt.to_timestamp()\n",
        "\n",
        "    df[\"lat\"] = _to_num(df[\"latitud_municipio\"].astype(str))\n",
        "    df[\"lon\"] = _to_num(df[\"longitud_municipio\"].astype(str))\n",
        "    df[\"coords_validas\"] = df[\"lat\"].between(-90, 90) & df[\"lon\"].between(-180, 180)\n",
        "\n",
        "    df.to_parquet(OUT_PATH, index=False)\n",
        "    print(f\"Parquet generado: {OUT_PATH}  ({len(df):,} filas)\")\n",
        "\n",
        "if __name__ == \"__main__\":\n",
        "    main()\n"
      ]
    },
    {
      "cell_type": "code",
      "execution_count": 2,
      "metadata": {
        "colab": {
          "base_uri": "https://localhost:8080/"
        },
        "id": "hEUxcw8sXKMj",
        "outputId": "daa4c054-0fa2-45c6-b45c-e565b0256f7c"
      },
      "outputs": [
        {
          "name": "stdout",
          "output_type": "stream",
          "text": [
            "Overwriting dashboard.py\n"
          ]
        }
      ],
      "source": [
        "%%writefile dashboard.py\n",
        "# Streamlit — carga Parquet preprocesado y visualiza.\n",
        "\n",
        "import os\n",
        "import math\n",
        "import itertools\n",
        "import pandas as pd\n",
        "import altair as alt\n",
        "import pydeck as pdk\n",
        "import streamlit as st\n",
        "\n",
        "# ---------- Config ----------\n",
        "st.set_page_config(page_title=\"Trámites Visibles\", layout=\"wide\")\n",
        "PARQUET_PATH = \"data/suit_tramites.parquet\"\n",
        "\n",
        "@st.cache_data(ttl=3600, show_spinner=True)\n",
        "def load_data(path: str) -> pd.DataFrame:\n",
        "    return pd.read_parquet(path)\n",
        "\n",
        "if not os.path.exists(PARQUET_PATH):\n",
        "    st.error(\"No se encontró el Parquet. Ejecuta `python preprocess_suit.py`.\")\n",
        "    st.stop()\n",
        "\n",
        "df = load_data(PARQUET_PATH)\n",
        "if df.empty:\n",
        "    st.warning(\"El Parquet está vacío.\")\n",
        "    st.stop()\n",
        "\n",
        "st.title(\"Trámites Visibles\")\n",
        "st.caption(\"Serie mensual por año (superpuesta). Base: fecha de actualización.\")\n",
        "\n",
        "# ---------- util ----------\n",
        "MESES_MAP = {1:\"Ene\",2:\"Feb\",3:\"Mar\",4:\"Abr\",5:\"May\",6:\"Jun\",7:\"Jul\",8:\"Ago\",9:\"Sep\",10:\"Oct\",11:\"Nov\",12:\"Dic\"}\n",
        "MESES_ORD = list(range(1,13))\n",
        "\n",
        "def pct_change_between_two_years(d: pd.DataFrame, y0: int, y1: int, months: list[int]) -> float | None:\n",
        "    \"\"\"Variación % entre y0 (base) y y1 (comparado) usando SOLO meses presentes en ambos años.\"\"\"\n",
        "    if d.empty or y0 is None or y1 is None or y0 == y1:\n",
        "        return None\n",
        "    months = list(months) if months else MESES_ORD\n",
        "    m0 = set(d.loc[d[\"anio\"] == y0, \"mes_num\"].dropna().astype(int)) & set(months)\n",
        "    m1 = set(d.loc[d[\"anio\"] == y1, \"mes_num\"].dropna().astype(int)) & set(months)\n",
        "    inter = sorted(m0 & m1)\n",
        "    if not inter:\n",
        "        return None\n",
        "    a = len(d[(d[\"anio\"] == y1) & (d[\"mes_num\"].isin(inter))])\n",
        "    b = len(d[(d[\"anio\"] == y0) & (d[\"mes_num\"].isin(inter))])\n",
        "    if b == 0:\n",
        "        return None\n",
        "    return (a - b) / b * 100.0\n",
        "\n",
        "# ---------- Sidebar (filtros dependientes) ----------\n",
        "with st.sidebar:\n",
        "    st.header(\"Filtros\")\n",
        "\n",
        "    # 1) Años\n",
        "    anios_all = sorted(df[\"anio\"].dropna().unique().astype(int).tolist())\n",
        "    anios_sel = st.multiselect(\"Años\", options=anios_all, default=anios_all, key=\"f_anios\")\n",
        "    df1 = df[df[\"anio\"].isin(anios_sel)] if anios_sel else df.copy()\n",
        "\n",
        "    # 2) Meses (derivados de años)\n",
        "    meses_opts = sorted(df1[\"mes_num\"].dropna().unique().astype(int).tolist()) or MESES_ORD\n",
        "    meses_sel = st.multiselect(\"Meses\", options=meses_opts, default=meses_opts,\n",
        "                               format_func=lambda m: MESES_MAP.get(m, str(m)), key=\"f_meses\")\n",
        "    df2 = df1[df1[\"mes_num\"].isin(meses_sel)] if meses_sel else df1.copy()\n",
        "\n",
        "    # 3) Departamento\n",
        "    deptos_opts = sorted(df2[\"departamento\"].dropna().unique().tolist())\n",
        "    d_sel = st.multiselect(\"Departamento\", options=deptos_opts, default=[], key=\"f_depto\")\n",
        "    df3 = df2[df2[\"departamento\"].isin(d_sel)] if d_sel else df2.copy()\n",
        "\n",
        "    # 4) Municipio\n",
        "    municipios_opts = sorted(df3[\"municipio\"].dropna().unique().tolist())\n",
        "    mpio_sel = st.multiselect(\"Municipio\", options=municipios_opts, default=[], key=\"f_mpio\")\n",
        "    df4 = df3[df3[\"municipio\"].isin(mpio_sel)] if mpio_sel else df3.copy()\n",
        "\n",
        "    # 5) Entidad\n",
        "    entidades_opts = sorted(df4[\"entidad\"].dropna().unique().tolist())\n",
        "    entidades_opts = entidades_opts[:300] if len(entidades_opts) > 300 else entidades_opts\n",
        "    e_sel = st.multiselect(\"Entidad\", options=entidades_opts, default=[], key=\"f_entidad\")\n",
        "    df_f = df4[df4[\"entidad\"].isin(e_sel)] if e_sel else df4.copy()\n",
        "\n",
        "# ---------- KPIs ----------\n",
        "st.subheader(\"Indicadores\")\n",
        "c1, c2, c3 = st.columns(3)\n",
        "\n",
        "total = len(df_f)\n",
        "prom  = df_f[\"fecha_mes\"].value_counts().mean() if df_f[\"fecha_mes\"].notna().any() else float(\"nan\")\n",
        "\n",
        "# Variación entre el primer y último año seleccionados (si hay >=2)\n",
        "anios_con_datos = sorted(df_f[\"anio\"].dropna().unique().astype(int).tolist())\n",
        "if len(anios_con_datos) >= 2:\n",
        "    y0, y1 = anios_con_datos[0], anios_con_datos[-1]\n",
        "    var = pct_change_between_two_years(df_f, y0, y1, meses_sel)\n",
        "    label_var = f\"Variación {y0}→{y1}\"\n",
        "else:\n",
        "    var = None\n",
        "    label_var = \"Variación\"\n",
        "\n",
        "c1.metric(\"Total\",         f\"{total:,}\".replace(\",\", \".\"))\n",
        "c2.metric(\"Prom. mensual\", f\"{0 if math.isnan(prom) else round(prom):,}\".replace(\",\", \".\"))\n",
        "c3.metric(label_var, \"N/D\" if var is None else f\"{var:.1f}%\")\n",
        "\n",
        "st.divider()\n",
        "\n",
        "# ---------- Serie mensual superpuesta por año ----------\n",
        "st.subheader(\"Evolución mensual por año (superpuesta)\")\n",
        "\n",
        "if df_f[\"anio\"].notna().any() and df_f[\"mes_num\"].notna().any():\n",
        "    base = (\n",
        "        df_f.groupby([\"anio\", \"mes_num\"], as_index=False)\n",
        "            .size()\n",
        "            .rename(columns={\"size\": \"tramites\"})\n",
        "    )\n",
        "    years_for_grid = sorted(base[\"anio\"].dropna().unique().astype(int).tolist())\n",
        "    months_for_grid = sorted(set(base[\"mes_num\"].dropna().astype(int)) & set(meses_sel)) if meses_sel else MESES_ORD\n",
        "    grid = pd.DataFrame(list(itertools.product(years_for_grid, months_for_grid)), columns=[\"anio\", \"mes_num\"])\n",
        "    serie = (\n",
        "        grid.merge(base, on=[\"anio\", \"mes_num\"], how=\"left\")\n",
        "            .assign(tramites=lambda d: d[\"tramites\"].fillna(0).astype(int))\n",
        "            .sort_values([\"anio\", \"mes_num\"])\n",
        "    )\n",
        "    # columna de texto de mes para tooltip (evita lambda en format)\n",
        "    serie[\"mes_nombre\"] = serie[\"mes_num\"].map(MESES_MAP)\n",
        "\n",
        "    chart = (\n",
        "        alt.Chart(serie)\n",
        "           .mark_line(point=True)\n",
        "           .encode(\n",
        "               x=alt.X(\"mes_num:O\", title=\"Mes\",\n",
        "                       sort=MESES_ORD,\n",
        "                       axis=alt.Axis(labelExpr=\"['','Ene','Feb','Mar','Abr','May','Jun','Jul','Ago','Sep','Oct','Nov','Dic'][datum.value]\")),\n",
        "               y=alt.Y(\"tramites:Q\", title=\"Trámites\"),\n",
        "               color=alt.Color(\"anio:O\", title=\"Año\"),\n",
        "               tooltip=[alt.Tooltip(\"anio:O\", title=\"Año\"),\n",
        "                        alt.Tooltip(\"mes_nombre:N\", title=\"Mes\"),\n",
        "                        alt.Tooltip(\"tramites:Q\", title=\"Trámites\")]\n",
        "           )\n",
        "           .properties(height=360)\n",
        "           .interactive()\n",
        "    )\n",
        "    st.altair_chart(chart, use_container_width=True)\n",
        "else:\n",
        "    st.info(\"No hay datos temporales para graficar.\")\n",
        "\n",
        "st.divider()\n",
        "\n",
        "# ---------- Mapa ----------\n",
        "st.subheader(\"Distribución geográfica\")\n",
        "\n",
        "coords_mask = df_f[\"coords_validas\"] if \"coords_validas\" in df_f.columns else pd.Series(False, index=df_f.index)\n",
        "geo = (\n",
        "    df_f[coords_mask]\n",
        "      .dropna(subset=[\"lat\", \"lon\"])\n",
        "      .groupby([\"departamento\", \"municipio\", \"lat\", \"lon\"], as_index=False)\n",
        "      .size()\n",
        "      .rename(columns={\"size\": \"tramites\"})\n",
        ")\n",
        "\n",
        "if geo.empty:\n",
        "    st.info(\"No hay coordenadas válidas para este filtro.\")\n",
        "else:\n",
        "    geo[\"radius\"] = (geo[\"tramites\"] * 30).clip(lower=2000).astype(float)\n",
        "    geo[\"lat\"] = geo[\"lat\"].astype(float)\n",
        "    geo[\"lon\"] = geo[\"lon\"].astype(float)\n",
        "\n",
        "    view = pdk.ViewState(latitude=4.570868, longitude=-74.297333, zoom=4.8, pitch=0, bearing=0)\n",
        "    layer = pdk.Layer(\n",
        "        \"ScatterplotLayer\",\n",
        "        data=geo,\n",
        "        get_position='[lon, lat]',\n",
        "        get_radius='radius',\n",
        "        get_fill_color='[0, 180, 255, 200]',\n",
        "        get_line_color='[255, 255, 255, 220]',\n",
        "        stroked=True,\n",
        "        line_width_min_pixels=1,\n",
        "        radius_min_pixels=2,\n",
        "        radius_max_pixels=120,\n",
        "        pickable=True,\n",
        "        auto_highlight=True,\n",
        "    )\n",
        "    tooltip = {\"text\": \"Depto: {departamento}\\nMunicipio: {municipio}\\nTrámites: {tramites}\"}\n",
        "    st.pydeck_chart(pdk.Deck(layers=[layer], initial_view_state=view, tooltip=tooltip))\n",
        "\n",
        "# ---------- Tabla resumen ----------\n",
        "with st.expander(\"Tabla por año/mes\"):\n",
        "    if df_f[\"anio\"].notna().any() and df_f[\"mes_num\"].notna().any():\n",
        "        tabla = (\n",
        "            df_f.groupby([\"anio\", \"mes_num\"], as_index=False)\n",
        "                .size()\n",
        "                .rename(columns={\"size\": \"tramites\", \"mes_num\": \"mes\"})\n",
        "                .sort_values([\"anio\", \"mes\"])\n",
        "        )\n",
        "        st.dataframe(tabla, use_container_width=True, hide_index=True)\n",
        "    else:\n",
        "        st.write(\"Sin datos temporales para mostrar.\")\n"
      ]
    },
    {
      "cell_type": "code",
      "execution_count": 3,
      "metadata": {},
      "outputs": [
        {
          "name": "stdout",
          "output_type": "stream",
          "text": [
            "^C\n"
          ]
        }
      ],
      "source": [
        "!streamlit run dashboard.py"
      ]
    },
    {
      "cell_type": "code",
      "execution_count": null,
      "metadata": {
        "colab": {
          "base_uri": "https://localhost:8080/"
        },
        "id": "GhEOiG2JRw3z",
        "outputId": "393c0ca0-98e3-4484-fd28-03078800b61c"
      },
      "outputs": [
        {
          "name": "stdout",
          "output_type": "stream",
          "text": [
            "34.75.23.164\n",
            "\u001b[1G\u001b[0K⠙\u001b[1G\u001b[0Kyour url is: https://little-snails-learn.loca.lt\n"
          ]
        }
      ],
      "source": [
        "!streamlit run app.py &>/content/logs.txt & npx localtunnel --port 8501 & curl ipv4.icanhazip.com"
      ]
    }
  ],
  "metadata": {
    "colab": {
      "provenance": []
    },
    "kernelspec": {
      "display_name": "Python 3",
      "name": "python3"
    },
    "language_info": {
      "codemirror_mode": {
        "name": "ipython",
        "version": 3
      },
      "file_extension": ".py",
      "mimetype": "text/x-python",
      "name": "python",
      "nbconvert_exporter": "python",
      "pygments_lexer": "ipython3",
      "version": "3.13.1"
    }
  },
  "nbformat": 4,
  "nbformat_minor": 0
}
